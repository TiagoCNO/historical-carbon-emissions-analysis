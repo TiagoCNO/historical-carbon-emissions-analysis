{
 "cells": [
  {
   "cell_type": "code",
   "execution_count": 1,
   "metadata": {},
   "outputs": [
    {
     "name": "stdout",
     "output_type": "stream",
     "text": [
      "Collecting pandas\n",
      "  Downloading pandas-2.2.2-cp312-cp312-win_amd64.whl.metadata (19 kB)\n",
      "Collecting numpy>=1.26.0 (from pandas)\n",
      "  Downloading numpy-2.0.1-cp312-cp312-win_amd64.whl.metadata (60 kB)\n",
      "     ---------------------------------------- 0.0/60.9 kB ? eta -:--:--\n",
      "     ---------------------------------------- 60.9/60.9 kB 3.2 MB/s eta 0:00:00\n",
      "Requirement already satisfied: python-dateutil>=2.8.2 in c:\\users\\tiago\\pythonprojects_personal\\projetos_sustentabilidade\\historical-carbon-emissions-analysis\\.venv\\lib\\site-packages (from pandas) (2.9.0.post0)\n",
      "Collecting pytz>=2020.1 (from pandas)\n",
      "  Using cached pytz-2024.1-py2.py3-none-any.whl.metadata (22 kB)\n",
      "Collecting tzdata>=2022.7 (from pandas)\n",
      "  Using cached tzdata-2024.1-py2.py3-none-any.whl.metadata (1.4 kB)\n",
      "Requirement already satisfied: six>=1.5 in c:\\users\\tiago\\pythonprojects_personal\\projetos_sustentabilidade\\historical-carbon-emissions-analysis\\.venv\\lib\\site-packages (from python-dateutil>=2.8.2->pandas) (1.16.0)\n",
      "Downloading pandas-2.2.2-cp312-cp312-win_amd64.whl (11.5 MB)\n",
      "   ---------------------------------------- 0.0/11.5 MB ? eta -:--:--\n",
      "    --------------------------------------- 0.2/11.5 MB 6.7 MB/s eta 0:00:02\n",
      "   - -------------------------------------- 0.5/11.5 MB 6.1 MB/s eta 0:00:02\n",
      "   -- ------------------------------------- 0.8/11.5 MB 6.1 MB/s eta 0:00:02\n",
      "   --- ------------------------------------ 1.0/11.5 MB 6.0 MB/s eta 0:00:02\n",
      "   ---- ----------------------------------- 1.4/11.5 MB 6.5 MB/s eta 0:00:02\n",
      "   ------ --------------------------------- 1.8/11.5 MB 6.7 MB/s eta 0:00:02\n",
      "   ------- -------------------------------- 2.3/11.5 MB 6.8 MB/s eta 0:00:02\n",
      "   --------- ------------------------------ 2.7/11.5 MB 7.1 MB/s eta 0:00:02\n",
      "   ---------- ----------------------------- 3.1/11.5 MB 7.2 MB/s eta 0:00:02\n",
      "   ------------ --------------------------- 3.5/11.5 MB 7.4 MB/s eta 0:00:02\n",
      "   -------------- ------------------------- 4.0/11.5 MB 7.8 MB/s eta 0:00:01\n",
      "   ---------------- ----------------------- 4.7/11.5 MB 8.3 MB/s eta 0:00:01\n",
      "   ------------------ --------------------- 5.3/11.5 MB 8.6 MB/s eta 0:00:01\n",
      "   --------------------- ------------------ 6.1/11.5 MB 9.2 MB/s eta 0:00:01\n",
      "   ----------------------- ---------------- 6.8/11.5 MB 9.7 MB/s eta 0:00:01\n",
      "   -------------------------- ------------- 7.7/11.5 MB 10.2 MB/s eta 0:00:01\n",
      "   ----------------------------- ---------- 8.6/11.5 MB 10.7 MB/s eta 0:00:01\n",
      "   --------------------------------- ------ 9.5/11.5 MB 11.3 MB/s eta 0:00:01\n",
      "   ----------------------------------- ---- 10.3/11.5 MB 11.3 MB/s eta 0:00:01\n",
      "   -------------------------------------- - 11.0/11.5 MB 12.6 MB/s eta 0:00:01\n",
      "   ---------------------------------------  11.5/11.5 MB 13.4 MB/s eta 0:00:01\n",
      "   ---------------------------------------  11.5/11.5 MB 13.4 MB/s eta 0:00:01\n",
      "   ---------------------------------------- 11.5/11.5 MB 11.9 MB/s eta 0:00:00\n",
      "Downloading numpy-2.0.1-cp312-cp312-win_amd64.whl (16.3 MB)\n",
      "   ---------------------------------------- 0.0/16.3 MB ? eta -:--:--\n",
      "   - -------------------------------------- 0.7/16.3 MB 16.0 MB/s eta 0:00:01\n",
      "   ---- ----------------------------------- 1.7/16.3 MB 18.4 MB/s eta 0:00:01\n",
      "   ------ --------------------------------- 2.5/16.3 MB 18.1 MB/s eta 0:00:01\n",
      "   --------- ------------------------------ 3.7/16.3 MB 19.7 MB/s eta 0:00:01\n",
      "   ---------- ----------------------------- 4.4/16.3 MB 18.6 MB/s eta 0:00:01\n",
      "   ------------- -------------------------- 5.5/16.3 MB 19.6 MB/s eta 0:00:01\n",
      "   -------------- ------------------------- 6.0/16.3 MB 18.4 MB/s eta 0:00:01\n",
      "   ---------------- ----------------------- 6.9/16.3 MB 18.3 MB/s eta 0:00:01\n",
      "   ------------------- -------------------- 7.7/16.3 MB 19.0 MB/s eta 0:00:01\n",
      "   --------------------- ------------------ 8.6/16.3 MB 18.9 MB/s eta 0:00:01\n",
      "   ----------------------- ---------------- 9.5/16.3 MB 19.0 MB/s eta 0:00:01\n",
      "   ------------------------ --------------- 9.9/16.3 MB 18.2 MB/s eta 0:00:01\n",
      "   -------------------------- ------------- 10.8/16.3 MB 18.7 MB/s eta 0:00:01\n",
      "   ---------------------------- ----------- 11.5/16.3 MB 18.7 MB/s eta 0:00:01\n",
      "   ------------------------------ --------- 12.5/16.3 MB 18.7 MB/s eta 0:00:01\n",
      "   --------------------------------- ------ 13.6/16.3 MB 19.2 MB/s eta 0:00:01\n",
      "   ----------------------------------- ---- 14.5/16.3 MB 19.2 MB/s eta 0:00:01\n",
      "   ------------------------------------- -- 15.4/16.3 MB 19.3 MB/s eta 0:00:01\n",
      "   ---------------------------------------  16.1/16.3 MB 20.5 MB/s eta 0:00:01\n",
      "   ---------------------------------------  16.3/16.3 MB 20.5 MB/s eta 0:00:01\n",
      "   ---------------------------------------- 16.3/16.3 MB 17.7 MB/s eta 0:00:00\n",
      "Using cached pytz-2024.1-py2.py3-none-any.whl (505 kB)\n",
      "Using cached tzdata-2024.1-py2.py3-none-any.whl (345 kB)\n",
      "Installing collected packages: pytz, tzdata, numpy, pandas\n",
      "Successfully installed numpy-2.0.1 pandas-2.2.2 pytz-2024.1 tzdata-2024.1\n",
      "Note: you may need to restart the kernel to use updated packages.\n"
     ]
    }
   ],
   "source": [
    "%pip install pandas"
   ]
  },
  {
   "cell_type": "code",
   "execution_count": 2,
   "metadata": {},
   "outputs": [
    {
     "name": "stdout",
     "output_type": "stream",
     "text": [
      "Requirement already satisfied: numpy in c:\\users\\tiago\\pythonprojects_personal\\projetos_sustentabilidade\\historical-carbon-emissions-analysis\\.venv\\lib\\site-packages (2.0.1)\n",
      "Note: you may need to restart the kernel to use updated packages.\n"
     ]
    }
   ],
   "source": [
    "%pip install numpy"
   ]
  },
  {
   "cell_type": "code",
   "execution_count": 3,
   "metadata": {},
   "outputs": [
    {
     "name": "stdout",
     "output_type": "stream",
     "text": [
      "Collecting seaborn\n",
      "  Using cached seaborn-0.13.2-py3-none-any.whl.metadata (5.4 kB)\n",
      "Requirement already satisfied: numpy!=1.24.0,>=1.20 in c:\\users\\tiago\\pythonprojects_personal\\projetos_sustentabilidade\\historical-carbon-emissions-analysis\\.venv\\lib\\site-packages (from seaborn) (2.0.1)\n",
      "Requirement already satisfied: pandas>=1.2 in c:\\users\\tiago\\pythonprojects_personal\\projetos_sustentabilidade\\historical-carbon-emissions-analysis\\.venv\\lib\\site-packages (from seaborn) (2.2.2)\n",
      "Collecting matplotlib!=3.6.1,>=3.4 (from seaborn)\n",
      "  Downloading matplotlib-3.9.1-cp312-cp312-win_amd64.whl.metadata (11 kB)\n",
      "Collecting contourpy>=1.0.1 (from matplotlib!=3.6.1,>=3.4->seaborn)\n",
      "  Using cached contourpy-1.2.1-cp312-cp312-win_amd64.whl.metadata (5.8 kB)\n",
      "Collecting cycler>=0.10 (from matplotlib!=3.6.1,>=3.4->seaborn)\n",
      "  Using cached cycler-0.12.1-py3-none-any.whl.metadata (3.8 kB)\n",
      "Collecting fonttools>=4.22.0 (from matplotlib!=3.6.1,>=3.4->seaborn)\n",
      "  Downloading fonttools-4.53.1-cp312-cp312-win_amd64.whl.metadata (165 kB)\n",
      "     ---------------------------------------- 0.0/165.9 kB ? eta -:--:--\n",
      "     ------------------------- ------------ 112.6/165.9 kB 3.2 MB/s eta 0:00:01\n",
      "     -------------------------------------- 165.9/165.9 kB 3.3 MB/s eta 0:00:00\n",
      "Collecting kiwisolver>=1.3.1 (from matplotlib!=3.6.1,>=3.4->seaborn)\n",
      "  Using cached kiwisolver-1.4.5-cp312-cp312-win_amd64.whl.metadata (6.5 kB)\n",
      "Requirement already satisfied: packaging>=20.0 in c:\\users\\tiago\\pythonprojects_personal\\projetos_sustentabilidade\\historical-carbon-emissions-analysis\\.venv\\lib\\site-packages (from matplotlib!=3.6.1,>=3.4->seaborn) (24.1)\n",
      "Collecting pillow>=8 (from matplotlib!=3.6.1,>=3.4->seaborn)\n",
      "  Downloading pillow-10.4.0-cp312-cp312-win_amd64.whl.metadata (9.3 kB)\n",
      "Collecting pyparsing>=2.3.1 (from matplotlib!=3.6.1,>=3.4->seaborn)\n",
      "  Using cached pyparsing-3.1.2-py3-none-any.whl.metadata (5.1 kB)\n",
      "Requirement already satisfied: python-dateutil>=2.7 in c:\\users\\tiago\\pythonprojects_personal\\projetos_sustentabilidade\\historical-carbon-emissions-analysis\\.venv\\lib\\site-packages (from matplotlib!=3.6.1,>=3.4->seaborn) (2.9.0.post0)\n",
      "Requirement already satisfied: pytz>=2020.1 in c:\\users\\tiago\\pythonprojects_personal\\projetos_sustentabilidade\\historical-carbon-emissions-analysis\\.venv\\lib\\site-packages (from pandas>=1.2->seaborn) (2024.1)\n",
      "Requirement already satisfied: tzdata>=2022.7 in c:\\users\\tiago\\pythonprojects_personal\\projetos_sustentabilidade\\historical-carbon-emissions-analysis\\.venv\\lib\\site-packages (from pandas>=1.2->seaborn) (2024.1)\n",
      "Requirement already satisfied: six>=1.5 in c:\\users\\tiago\\pythonprojects_personal\\projetos_sustentabilidade\\historical-carbon-emissions-analysis\\.venv\\lib\\site-packages (from python-dateutil>=2.7->matplotlib!=3.6.1,>=3.4->seaborn) (1.16.0)\n",
      "Using cached seaborn-0.13.2-py3-none-any.whl (294 kB)\n",
      "Downloading matplotlib-3.9.1-cp312-cp312-win_amd64.whl (8.0 MB)\n",
      "   ---------------------------------------- 0.0/8.0 MB ? eta -:--:--\n",
      "   - -------------------------------------- 0.3/8.0 MB 7.9 MB/s eta 0:00:01\n",
      "   -- ------------------------------------- 0.4/8.0 MB 5.4 MB/s eta 0:00:02\n",
      "   --- ------------------------------------ 0.6/8.0 MB 5.8 MB/s eta 0:00:02\n",
      "   ---- ----------------------------------- 0.9/8.0 MB 5.6 MB/s eta 0:00:02\n",
      "   ----- ---------------------------------- 1.1/8.0 MB 5.8 MB/s eta 0:00:02\n",
      "   ------ --------------------------------- 1.4/8.0 MB 5.8 MB/s eta 0:00:02\n",
      "   ------- -------------------------------- 1.6/8.0 MB 5.9 MB/s eta 0:00:02\n",
      "   --------- ------------------------------ 1.9/8.0 MB 6.1 MB/s eta 0:00:01\n",
      "   ---------- ----------------------------- 2.2/8.0 MB 6.1 MB/s eta 0:00:01\n",
      "   ------------ --------------------------- 2.5/8.0 MB 6.5 MB/s eta 0:00:01\n",
      "   -------------- ------------------------- 2.9/8.0 MB 6.7 MB/s eta 0:00:01\n",
      "   ---------------- ----------------------- 3.2/8.0 MB 6.9 MB/s eta 0:00:01\n",
      "   ----------------- ---------------------- 3.6/8.0 MB 6.9 MB/s eta 0:00:01\n",
      "   ------------------- -------------------- 3.9/8.0 MB 7.1 MB/s eta 0:00:01\n",
      "   --------------------- ------------------ 4.4/8.0 MB 7.4 MB/s eta 0:00:01\n",
      "   ------------------------ --------------- 4.9/8.0 MB 7.8 MB/s eta 0:00:01\n",
      "   --------------------------- ------------ 5.5/8.0 MB 8.0 MB/s eta 0:00:01\n",
      "   ------------------------------ --------- 6.1/8.0 MB 8.5 MB/s eta 0:00:01\n",
      "   --------------------------------- ------ 6.7/8.0 MB 8.7 MB/s eta 0:00:01\n",
      "   ------------------------------------- -- 7.4/8.0 MB 9.4 MB/s eta 0:00:01\n",
      "   ---------------------------------------  8.0/8.0 MB 9.6 MB/s eta 0:00:01\n",
      "   ---------------------------------------- 8.0/8.0 MB 9.1 MB/s eta 0:00:00\n",
      "Using cached contourpy-1.2.1-cp312-cp312-win_amd64.whl (189 kB)\n",
      "Using cached cycler-0.12.1-py3-none-any.whl (8.3 kB)\n",
      "Downloading fonttools-4.53.1-cp312-cp312-win_amd64.whl (2.2 MB)\n",
      "   ---------------------------------------- 0.0/2.2 MB ? eta -:--:--\n",
      "   -------------- ------------------------- 0.8/2.2 MB 16.6 MB/s eta 0:00:01\n",
      "   ---------------------- ----------------- 1.2/2.2 MB 15.8 MB/s eta 0:00:01\n",
      "   ------------------------------------ --- 2.0/2.2 MB 15.9 MB/s eta 0:00:01\n",
      "   ---------------------------------------- 2.2/2.2 MB 15.5 MB/s eta 0:00:00\n",
      "Using cached kiwisolver-1.4.5-cp312-cp312-win_amd64.whl (56 kB)\n",
      "Downloading pillow-10.4.0-cp312-cp312-win_amd64.whl (2.6 MB)\n",
      "   ---------------------------------------- 0.0/2.6 MB ? eta -:--:--\n",
      "   ------------- -------------------------- 0.8/2.6 MB 17.9 MB/s eta 0:00:01\n",
      "   ----------------------- ---------------- 1.5/2.6 MB 23.6 MB/s eta 0:00:01\n",
      "   --------------------------------- ------ 2.1/2.6 MB 17.0 MB/s eta 0:00:01\n",
      "   ---------------------------------------- 2.6/2.6 MB 16.3 MB/s eta 0:00:00\n",
      "Using cached pyparsing-3.1.2-py3-none-any.whl (103 kB)\n",
      "Installing collected packages: pyparsing, pillow, kiwisolver, fonttools, cycler, contourpy, matplotlib, seaborn\n",
      "Successfully installed contourpy-1.2.1 cycler-0.12.1 fonttools-4.53.1 kiwisolver-1.4.5 matplotlib-3.9.1 pillow-10.4.0 pyparsing-3.1.2 seaborn-0.13.2\n",
      "Note: you may need to restart the kernel to use updated packages.\n"
     ]
    }
   ],
   "source": [
    "%pip install seaborn"
   ]
  },
  {
   "cell_type": "code",
   "execution_count": 4,
   "metadata": {},
   "outputs": [
    {
     "name": "stdout",
     "output_type": "stream",
     "text": [
      "Requirement already satisfied: matplotlib in c:\\users\\tiago\\pythonprojects_personal\\projetos_sustentabilidade\\historical-carbon-emissions-analysis\\.venv\\lib\\site-packages (3.9.1)\n",
      "Requirement already satisfied: contourpy>=1.0.1 in c:\\users\\tiago\\pythonprojects_personal\\projetos_sustentabilidade\\historical-carbon-emissions-analysis\\.venv\\lib\\site-packages (from matplotlib) (1.2.1)\n",
      "Requirement already satisfied: cycler>=0.10 in c:\\users\\tiago\\pythonprojects_personal\\projetos_sustentabilidade\\historical-carbon-emissions-analysis\\.venv\\lib\\site-packages (from matplotlib) (0.12.1)\n",
      "Requirement already satisfied: fonttools>=4.22.0 in c:\\users\\tiago\\pythonprojects_personal\\projetos_sustentabilidade\\historical-carbon-emissions-analysis\\.venv\\lib\\site-packages (from matplotlib) (4.53.1)\n",
      "Requirement already satisfied: kiwisolver>=1.3.1 in c:\\users\\tiago\\pythonprojects_personal\\projetos_sustentabilidade\\historical-carbon-emissions-analysis\\.venv\\lib\\site-packages (from matplotlib) (1.4.5)\n",
      "Requirement already satisfied: numpy>=1.23 in c:\\users\\tiago\\pythonprojects_personal\\projetos_sustentabilidade\\historical-carbon-emissions-analysis\\.venv\\lib\\site-packages (from matplotlib) (2.0.1)\n",
      "Requirement already satisfied: packaging>=20.0 in c:\\users\\tiago\\pythonprojects_personal\\projetos_sustentabilidade\\historical-carbon-emissions-analysis\\.venv\\lib\\site-packages (from matplotlib) (24.1)\n",
      "Requirement already satisfied: pillow>=8 in c:\\users\\tiago\\pythonprojects_personal\\projetos_sustentabilidade\\historical-carbon-emissions-analysis\\.venv\\lib\\site-packages (from matplotlib) (10.4.0)\n",
      "Requirement already satisfied: pyparsing>=2.3.1 in c:\\users\\tiago\\pythonprojects_personal\\projetos_sustentabilidade\\historical-carbon-emissions-analysis\\.venv\\lib\\site-packages (from matplotlib) (3.1.2)\n",
      "Requirement already satisfied: python-dateutil>=2.7 in c:\\users\\tiago\\pythonprojects_personal\\projetos_sustentabilidade\\historical-carbon-emissions-analysis\\.venv\\lib\\site-packages (from matplotlib) (2.9.0.post0)\n",
      "Requirement already satisfied: six>=1.5 in c:\\users\\tiago\\pythonprojects_personal\\projetos_sustentabilidade\\historical-carbon-emissions-analysis\\.venv\\lib\\site-packages (from python-dateutil>=2.7->matplotlib) (1.16.0)\n",
      "Note: you may need to restart the kernel to use updated packages.\n"
     ]
    }
   ],
   "source": [
    "%pip install matplotlib"
   ]
  },
  {
   "cell_type": "code",
   "execution_count": null,
   "metadata": {},
   "outputs": [],
   "source": []
  }
 ],
 "metadata": {
  "kernelspec": {
   "display_name": ".venv",
   "language": "python",
   "name": "python3"
  },
  "language_info": {
   "codemirror_mode": {
    "name": "ipython",
    "version": 3
   },
   "file_extension": ".py",
   "mimetype": "text/x-python",
   "name": "python",
   "nbconvert_exporter": "python",
   "pygments_lexer": "ipython3",
   "version": "3.12.2"
  }
 },
 "nbformat": 4,
 "nbformat_minor": 2
}
